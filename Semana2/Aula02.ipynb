{
 "cells": [
  {
   "cell_type": "markdown",
   "metadata": {},
   "source": [
    "# Aula 02\n",
    "\n",
    "**obs:** Veja no slide as instruções para configurar o ambiente para executar este aquivo. "
   ]
  },
  {
   "cell_type": "markdown",
   "metadata": {},
   "source": [
    "Aluno(a): "
   ]
  },
  {
   "cell_type": "markdown",
   "metadata": {},
   "source": [
    "## Carregando o conjunto de dados"
   ]
  },
  {
   "cell_type": "code",
   "execution_count": 1,
   "metadata": {},
   "outputs": [],
   "source": [
    "import pandas as pd\n",
    "import requests\n",
    "from io import StringIO\n",
    "\n",
    "# Criação do dataFrame dos alunos\n",
    "# ID do arquivo no Google Drive\n",
    "file_id = '15aOJIGAyLMSY1gecjiCgu2ko_riIcKQy'\n",
    "file_id2 = '1Jgto7psHaMRTAVzcFt7D6SgJiHMB7uGT'\n",
    "\n",
    "# URL modificada para forçar o download do arquivo\n",
    "url = f\"https://drive.google.com/uc?id={file_id}\"\n",
    "url2 = f\"https://drive.google.com/uc?id={file_id2}\"\n",
    "\n",
    "\n",
    "# Tentando obter o arquivo com requests\n",
    "try:\n",
    "    response = requests.get(url)\n",
    "    response.raise_for_status()  # Lança um erro para respostas não-sucedidas\n",
    "    # Usando StringIO para converter o texto em um arquivo em memória e, então, lendo com o Pandas\n",
    "    csv_raw = StringIO(response.text)\n",
    "    estudantes = pd.read_csv(csv_raw)\n",
    "    \n",
    "    response2 = requests.get(url2)\n",
    "    response2.raise_for_status()  \n",
    "    csv_raw = StringIO(response2.text)\n",
    "    escolas = pd.read_csv(csv_raw)\n",
    "except requests.RequestException as e:\n",
    "    print(f\"Erro ao acessar o arquivo: {e}\")\n"
   ]
  },
  {
   "cell_type": "markdown",
   "metadata": {},
   "source": [
    "**obs.:** todas as vezes que o presente arquivo for aberto é necessário executar a célula acima."
   ]
  },
  {
   "cell_type": "markdown",
   "metadata": {},
   "source": [
    "Analisando os dataframes\n",
    "\n",
    "1 - Escolas"
   ]
  },
  {
   "cell_type": "code",
   "execution_count": 2,
   "metadata": {},
   "outputs": [
    {
     "data": {
      "application/vnd.microsoft.datawrangler.viewer.v0+json": {
       "columns": [
        {
         "name": "index",
         "rawType": "int64",
         "type": "integer"
        },
        {
         "name": "ID_Escola",
         "rawType": "int64",
         "type": "integer"
        },
        {
         "name": "Nome_Escola",
         "rawType": "object",
         "type": "string"
        },
        {
         "name": "Tipo_Escola",
         "rawType": "object",
         "type": "string"
        },
        {
         "name": "Numero_Alunos",
         "rawType": "int64",
         "type": "integer"
        },
        {
         "name": "Orcamento_Anual",
         "rawType": "int64",
         "type": "integer"
        }
       ],
       "ref": "bc8333c3-9ef3-4e65-860e-d40349ba56e1",
       "rows": [
        [
         "0",
         "0",
         "Escola A",
         "Publica",
         "2917",
         "1910635"
        ],
        [
         "1",
         "1",
         "Escola B",
         "Publica",
         "2949",
         "1884411"
        ],
        [
         "2",
         "2",
         "Escola C",
         "Particular",
         "1761",
         "1056600"
        ],
        [
         "3",
         "3",
         "Escola D",
         "Publica",
         "4635",
         "3022020"
        ],
        [
         "4",
         "4",
         "Escola E",
         "Particular",
         "1468",
         "917500"
        ],
        [
         "5",
         "5",
         "Escola F",
         "Particular",
         "2283",
         "1319574"
        ],
        [
         "6",
         "6",
         "Escola G",
         "Particular",
         "1858",
         "1081356"
        ],
        [
         "7",
         "7",
         "Escola H",
         "Publica",
         "4976",
         "3124928"
        ],
        [
         "8",
         "8",
         "Escola I",
         "Particular",
         "427",
         "248087"
        ],
        [
         "9",
         "9",
         "Escola J",
         "Particular",
         "962",
         "585858"
        ],
        [
         "10",
         "10",
         "Escola K",
         "Particular",
         "1800",
         "1049400"
        ],
        [
         "11",
         "11",
         "Escola L",
         "Publica",
         "3999",
         "2547363"
        ],
        [
         "12",
         "12",
         "Escola M",
         "Publica",
         "4761",
         "3094650"
        ],
        [
         "13",
         "13",
         "Escola N",
         "Publica",
         "2739",
         "1763916"
        ],
        [
         "14",
         "14",
         "Escola O",
         "Particular",
         "1635",
         "1043130"
        ]
       ],
       "shape": {
        "columns": 5,
        "rows": 15
       }
      },
      "text/html": [
       "<div>\n",
       "<style scoped>\n",
       "    .dataframe tbody tr th:only-of-type {\n",
       "        vertical-align: middle;\n",
       "    }\n",
       "\n",
       "    .dataframe tbody tr th {\n",
       "        vertical-align: top;\n",
       "    }\n",
       "\n",
       "    .dataframe thead th {\n",
       "        text-align: right;\n",
       "    }\n",
       "</style>\n",
       "<table border=\"1\" class=\"dataframe\">\n",
       "  <thead>\n",
       "    <tr style=\"text-align: right;\">\n",
       "      <th></th>\n",
       "      <th>ID_Escola</th>\n",
       "      <th>Nome_Escola</th>\n",
       "      <th>Tipo_Escola</th>\n",
       "      <th>Numero_Alunos</th>\n",
       "      <th>Orcamento_Anual</th>\n",
       "    </tr>\n",
       "  </thead>\n",
       "  <tbody>\n",
       "    <tr>\n",
       "      <th>0</th>\n",
       "      <td>0</td>\n",
       "      <td>Escola A</td>\n",
       "      <td>Publica</td>\n",
       "      <td>2917</td>\n",
       "      <td>1910635</td>\n",
       "    </tr>\n",
       "    <tr>\n",
       "      <th>1</th>\n",
       "      <td>1</td>\n",
       "      <td>Escola B</td>\n",
       "      <td>Publica</td>\n",
       "      <td>2949</td>\n",
       "      <td>1884411</td>\n",
       "    </tr>\n",
       "    <tr>\n",
       "      <th>2</th>\n",
       "      <td>2</td>\n",
       "      <td>Escola C</td>\n",
       "      <td>Particular</td>\n",
       "      <td>1761</td>\n",
       "      <td>1056600</td>\n",
       "    </tr>\n",
       "    <tr>\n",
       "      <th>3</th>\n",
       "      <td>3</td>\n",
       "      <td>Escola D</td>\n",
       "      <td>Publica</td>\n",
       "      <td>4635</td>\n",
       "      <td>3022020</td>\n",
       "    </tr>\n",
       "    <tr>\n",
       "      <th>4</th>\n",
       "      <td>4</td>\n",
       "      <td>Escola E</td>\n",
       "      <td>Particular</td>\n",
       "      <td>1468</td>\n",
       "      <td>917500</td>\n",
       "    </tr>\n",
       "    <tr>\n",
       "      <th>5</th>\n",
       "      <td>5</td>\n",
       "      <td>Escola F</td>\n",
       "      <td>Particular</td>\n",
       "      <td>2283</td>\n",
       "      <td>1319574</td>\n",
       "    </tr>\n",
       "    <tr>\n",
       "      <th>6</th>\n",
       "      <td>6</td>\n",
       "      <td>Escola G</td>\n",
       "      <td>Particular</td>\n",
       "      <td>1858</td>\n",
       "      <td>1081356</td>\n",
       "    </tr>\n",
       "    <tr>\n",
       "      <th>7</th>\n",
       "      <td>7</td>\n",
       "      <td>Escola H</td>\n",
       "      <td>Publica</td>\n",
       "      <td>4976</td>\n",
       "      <td>3124928</td>\n",
       "    </tr>\n",
       "    <tr>\n",
       "      <th>8</th>\n",
       "      <td>8</td>\n",
       "      <td>Escola I</td>\n",
       "      <td>Particular</td>\n",
       "      <td>427</td>\n",
       "      <td>248087</td>\n",
       "    </tr>\n",
       "    <tr>\n",
       "      <th>9</th>\n",
       "      <td>9</td>\n",
       "      <td>Escola J</td>\n",
       "      <td>Particular</td>\n",
       "      <td>962</td>\n",
       "      <td>585858</td>\n",
       "    </tr>\n",
       "    <tr>\n",
       "      <th>10</th>\n",
       "      <td>10</td>\n",
       "      <td>Escola K</td>\n",
       "      <td>Particular</td>\n",
       "      <td>1800</td>\n",
       "      <td>1049400</td>\n",
       "    </tr>\n",
       "    <tr>\n",
       "      <th>11</th>\n",
       "      <td>11</td>\n",
       "      <td>Escola L</td>\n",
       "      <td>Publica</td>\n",
       "      <td>3999</td>\n",
       "      <td>2547363</td>\n",
       "    </tr>\n",
       "    <tr>\n",
       "      <th>12</th>\n",
       "      <td>12</td>\n",
       "      <td>Escola M</td>\n",
       "      <td>Publica</td>\n",
       "      <td>4761</td>\n",
       "      <td>3094650</td>\n",
       "    </tr>\n",
       "    <tr>\n",
       "      <th>13</th>\n",
       "      <td>13</td>\n",
       "      <td>Escola N</td>\n",
       "      <td>Publica</td>\n",
       "      <td>2739</td>\n",
       "      <td>1763916</td>\n",
       "    </tr>\n",
       "    <tr>\n",
       "      <th>14</th>\n",
       "      <td>14</td>\n",
       "      <td>Escola O</td>\n",
       "      <td>Particular</td>\n",
       "      <td>1635</td>\n",
       "      <td>1043130</td>\n",
       "    </tr>\n",
       "  </tbody>\n",
       "</table>\n",
       "</div>"
      ],
      "text/plain": [
       "    ID_Escola Nome_Escola Tipo_Escola  Numero_Alunos  Orcamento_Anual\n",
       "0           0    Escola A     Publica           2917          1910635\n",
       "1           1    Escola B     Publica           2949          1884411\n",
       "2           2    Escola C  Particular           1761          1056600\n",
       "3           3    Escola D     Publica           4635          3022020\n",
       "4           4    Escola E  Particular           1468           917500\n",
       "5           5    Escola F  Particular           2283          1319574\n",
       "6           6    Escola G  Particular           1858          1081356\n",
       "7           7    Escola H     Publica           4976          3124928\n",
       "8           8    Escola I  Particular            427           248087\n",
       "9           9    Escola J  Particular            962           585858\n",
       "10         10    Escola K  Particular           1800          1049400\n",
       "11         11    Escola L     Publica           3999          2547363\n",
       "12         12    Escola M     Publica           4761          3094650\n",
       "13         13    Escola N     Publica           2739          1763916\n",
       "14         14    Escola O  Particular           1635          1043130"
      ]
     },
     "execution_count": 2,
     "metadata": {},
     "output_type": "execute_result"
    }
   ],
   "source": [
    "escolas"
   ]
  },
  {
   "cell_type": "markdown",
   "metadata": {},
   "source": [
    "2 - Estudantes"
   ]
  },
  {
   "cell_type": "code",
   "execution_count": 3,
   "metadata": {},
   "outputs": [
    {
     "data": {
      "application/vnd.microsoft.datawrangler.viewer.v0+json": {
       "columns": [
        {
         "name": "index",
         "rawType": "int64",
         "type": "integer"
        },
        {
         "name": "ID_Estudante",
         "rawType": "int64",
         "type": "integer"
        },
        {
         "name": "Nome_Estudante",
         "rawType": "object",
         "type": "string"
        },
        {
         "name": "Genero",
         "rawType": "object",
         "type": "string"
        },
        {
         "name": "Serie",
         "rawType": "int64",
         "type": "integer"
        },
        {
         "name": "Nome_Escola",
         "rawType": "object",
         "type": "string"
        },
        {
         "name": "Nota_Redacao",
         "rawType": "int64",
         "type": "integer"
        },
        {
         "name": "Nota_Matematica",
         "rawType": "int64",
         "type": "integer"
        }
       ],
       "ref": "a920c7b7-c673-478c-a435-1b40876534d5",
       "rows": [
        [
         "0",
         "0",
         "Kevin Bradley",
         "M",
         "6",
         "Escola A",
         "66",
         "79"
        ],
        [
         "1",
         "1",
         "Paul Smith",
         "M",
         "9",
         "Escola A",
         "94",
         "61"
        ],
        [
         "2",
         "2",
         "John Rodriguez",
         "M",
         "9",
         "Escola A",
         "90",
         "60"
        ],
        [
         "3",
         "3",
         "Oliver Scott",
         "M",
         "9",
         "Escola A",
         "67",
         "58"
        ],
        [
         "4",
         "4",
         "William Ray",
         "F",
         "6",
         "Escola A",
         "97",
         "84"
        ],
        [
         "5",
         "5",
         "James Miranda",
         "M",
         "6",
         "Escola A",
         "94",
         "94"
        ],
        [
         "6",
         "6",
         "Benjamin Carter",
         "F",
         "8",
         "Escola A",
         "82",
         "80"
        ],
        [
         "7",
         "7",
         "Mason Baker",
         "F",
         "9",
         "Escola A",
         "96",
         "69"
        ],
        [
         "8",
         "8",
         "Ethan Roth",
         "M",
         "7",
         "Escola A",
         "95",
         "87"
        ],
        [
         "9",
         "9",
         "Jacob Greene",
         "M",
         "7",
         "Escola A",
         "96",
         "84"
        ],
        [
         "10",
         "10",
         "Logan Alexander",
         "M",
         "7",
         "Escola A",
         "90",
         "70"
        ],
        [
         "11",
         "11",
         "Jackson Cooper",
         "M",
         "7",
         "Escola A",
         "78",
         "77"
        ],
        [
         "12",
         "12",
         "Sebastian Walker",
         "F",
         "6",
         "Escola A",
         "64",
         "79"
        ],
        [
         "13",
         "13",
         "Mateo Long",
         "M",
         "6",
         "Escola A",
         "71",
         "79"
        ],
        [
         "14",
         "14",
         "Jack Hebert",
         "F",
         "7",
         "Escola A",
         "85",
         "67"
        ],
        [
         "15",
         "15",
         "Owen Carson",
         "M",
         "8",
         "Escola A",
         "94",
         "88"
        ],
        [
         "16",
         "16",
         "Theodore Zamora",
         "M",
         "6",
         "Escola A",
         "88",
         "55"
        ],
        [
         "17",
         "17",
         "Aiden Santiago",
         "F",
         "6",
         "Escola A",
         "74",
         "75"
        ],
        [
         "18",
         "18",
         "Wyatt Stevens",
         "M",
         "6",
         "Escola A",
         "64",
         "69"
        ],
        [
         "19",
         "19",
         "Asher Lyons",
         "F",
         "6",
         "Escola A",
         "89",
         "80"
        ],
        [
         "20",
         "20",
         "Carter Davis",
         "F",
         "7",
         "Escola A",
         "91",
         "89"
        ],
        [
         "21",
         "21",
         "Kristen Lopez",
         "F",
         "7",
         "Escola A",
         "90",
         "77"
        ],
        [
         "22",
         "22",
         "Julian Stewart",
         "F",
         "8",
         "Escola A",
         "99",
         "84"
        ],
        [
         "23",
         "23",
         "Christopher Parker",
         "M",
         "6",
         "Escola A",
         "81",
         "68"
        ],
        [
         "24",
         "24",
         "Chelsea Griffith",
         "F",
         "8",
         "Escola A",
         "85",
         "73"
        ],
        [
         "25",
         "25",
         "Cesar Morris",
         "M",
         "6",
         "Escola A",
         "92",
         "70"
        ],
        [
         "26",
         "26",
         "Melanie Decker",
         "F",
         "6",
         "Escola A",
         "63",
         "85"
        ],
        [
         "27",
         "27",
         "Tracey Oconnor",
         "F",
         "7",
         "Escola A",
         "80",
         "58"
        ],
        [
         "28",
         "28",
         "Kelly James",
         "F",
         "8",
         "Escola A",
         "73",
         "55"
        ],
        [
         "29",
         "29",
         "Nicole Brown",
         "F",
         "9",
         "Escola A",
         "90",
         "88"
        ],
        [
         "30",
         "30",
         "Bobby Harris",
         "M",
         "6",
         "Escola A",
         "94",
         "99"
        ],
        [
         "31",
         "31",
         "Brian Fernandez",
         "M",
         "7",
         "Escola A",
         "97",
         "65"
        ],
        [
         "32",
         "32",
         "Candace Phelps",
         "F",
         "8",
         "Escola A",
         "93",
         "90"
        ],
        [
         "33",
         "33",
         "Amy Gonzalez",
         "F",
         "9",
         "Escola A",
         "95",
         "68"
        ],
        [
         "34",
         "34",
         "Steven Green",
         "M",
         "8",
         "Escola A",
         "65",
         "74"
        ],
        [
         "35",
         "35",
         "Benjamin Carlson",
         "M",
         "7",
         "Escola A",
         "99",
         "61"
        ],
        [
         "36",
         "36",
         "Kevin Bailey",
         "M",
         "7",
         "Escola A",
         "76",
         "76"
        ],
        [
         "37",
         "37",
         "Jesse Newton",
         "M",
         "7",
         "Escola A",
         "63",
         "66"
        ],
        [
         "38",
         "38",
         "Kimberly Mercado",
         "F",
         "9",
         "Escola A",
         "73",
         "77"
        ],
        [
         "39",
         "39",
         "Gregory Roberts",
         "M",
         "6",
         "Escola A",
         "80",
         "61"
        ],
        [
         "40",
         "40",
         "Matthew Mayer",
         "M",
         "6",
         "Escola A",
         "79",
         "69"
        ],
        [
         "41",
         "41",
         "Jennifer Parks",
         "F",
         "8",
         "Escola A",
         "85",
         "95"
        ],
        [
         "42",
         "42",
         "John Carlson",
         "M",
         "6",
         "Escola A",
         "65",
         "89"
        ],
        [
         "43",
         "43",
         "Megan Roberts",
         "F",
         "6",
         "Escola A",
         "66",
         "90"
        ],
        [
         "44",
         "44",
         "Debra Flores",
         "F",
         "7",
         "Escola A",
         "75",
         "66"
        ],
        [
         "45",
         "45",
         "Heidi Jackson",
         "F",
         "8",
         "Escola A",
         "64",
         "93"
        ],
        [
         "46",
         "46",
         "Denise Bradford",
         "F",
         "9",
         "Escola A",
         "73",
         "59"
        ],
        [
         "47",
         "47",
         "Ellen Brown",
         "F",
         "8",
         "Escola A",
         "77",
         "81"
        ],
        [
         "48",
         "48",
         "Amy Perkins",
         "F",
         "6",
         "Escola A",
         "76",
         "66"
        ],
        [
         "49",
         "49",
         "Natalie Mitchell",
         "F",
         "7",
         "Escola A",
         "73",
         "93"
        ]
       ],
       "shape": {
        "columns": 7,
        "rows": 39160
       }
      },
      "text/html": [
       "<div>\n",
       "<style scoped>\n",
       "    .dataframe tbody tr th:only-of-type {\n",
       "        vertical-align: middle;\n",
       "    }\n",
       "\n",
       "    .dataframe tbody tr th {\n",
       "        vertical-align: top;\n",
       "    }\n",
       "\n",
       "    .dataframe thead th {\n",
       "        text-align: right;\n",
       "    }\n",
       "</style>\n",
       "<table border=\"1\" class=\"dataframe\">\n",
       "  <thead>\n",
       "    <tr style=\"text-align: right;\">\n",
       "      <th></th>\n",
       "      <th>ID_Estudante</th>\n",
       "      <th>Nome_Estudante</th>\n",
       "      <th>Genero</th>\n",
       "      <th>Serie</th>\n",
       "      <th>Nome_Escola</th>\n",
       "      <th>Nota_Redacao</th>\n",
       "      <th>Nota_Matematica</th>\n",
       "    </tr>\n",
       "  </thead>\n",
       "  <tbody>\n",
       "    <tr>\n",
       "      <th>0</th>\n",
       "      <td>0</td>\n",
       "      <td>Kevin Bradley</td>\n",
       "      <td>M</td>\n",
       "      <td>6</td>\n",
       "      <td>Escola A</td>\n",
       "      <td>66</td>\n",
       "      <td>79</td>\n",
       "    </tr>\n",
       "    <tr>\n",
       "      <th>1</th>\n",
       "      <td>1</td>\n",
       "      <td>Paul Smith</td>\n",
       "      <td>M</td>\n",
       "      <td>9</td>\n",
       "      <td>Escola A</td>\n",
       "      <td>94</td>\n",
       "      <td>61</td>\n",
       "    </tr>\n",
       "    <tr>\n",
       "      <th>2</th>\n",
       "      <td>2</td>\n",
       "      <td>John Rodriguez</td>\n",
       "      <td>M</td>\n",
       "      <td>9</td>\n",
       "      <td>Escola A</td>\n",
       "      <td>90</td>\n",
       "      <td>60</td>\n",
       "    </tr>\n",
       "    <tr>\n",
       "      <th>3</th>\n",
       "      <td>3</td>\n",
       "      <td>Oliver Scott</td>\n",
       "      <td>M</td>\n",
       "      <td>9</td>\n",
       "      <td>Escola A</td>\n",
       "      <td>67</td>\n",
       "      <td>58</td>\n",
       "    </tr>\n",
       "    <tr>\n",
       "      <th>4</th>\n",
       "      <td>4</td>\n",
       "      <td>William Ray</td>\n",
       "      <td>F</td>\n",
       "      <td>6</td>\n",
       "      <td>Escola A</td>\n",
       "      <td>97</td>\n",
       "      <td>84</td>\n",
       "    </tr>\n",
       "    <tr>\n",
       "      <th>...</th>\n",
       "      <td>...</td>\n",
       "      <td>...</td>\n",
       "      <td>...</td>\n",
       "      <td>...</td>\n",
       "      <td>...</td>\n",
       "      <td>...</td>\n",
       "      <td>...</td>\n",
       "    </tr>\n",
       "    <tr>\n",
       "      <th>39155</th>\n",
       "      <td>39155</td>\n",
       "      <td>John Brooks</td>\n",
       "      <td>M</td>\n",
       "      <td>7</td>\n",
       "      <td>Escola O</td>\n",
       "      <td>92</td>\n",
       "      <td>98</td>\n",
       "    </tr>\n",
       "    <tr>\n",
       "      <th>39156</th>\n",
       "      <td>39156</td>\n",
       "      <td>Stephanie Contreras</td>\n",
       "      <td>F</td>\n",
       "      <td>8</td>\n",
       "      <td>Escola O</td>\n",
       "      <td>79</td>\n",
       "      <td>95</td>\n",
       "    </tr>\n",
       "    <tr>\n",
       "      <th>39157</th>\n",
       "      <td>39157</td>\n",
       "      <td>Kristen Gonzalez</td>\n",
       "      <td>F</td>\n",
       "      <td>6</td>\n",
       "      <td>Escola O</td>\n",
       "      <td>79</td>\n",
       "      <td>94</td>\n",
       "    </tr>\n",
       "    <tr>\n",
       "      <th>39158</th>\n",
       "      <td>39158</td>\n",
       "      <td>Kari Holloway</td>\n",
       "      <td>F</td>\n",
       "      <td>7</td>\n",
       "      <td>Escola O</td>\n",
       "      <td>87</td>\n",
       "      <td>90</td>\n",
       "    </tr>\n",
       "    <tr>\n",
       "      <th>39159</th>\n",
       "      <td>39159</td>\n",
       "      <td>Kimberly Cabrera</td>\n",
       "      <td>F</td>\n",
       "      <td>8</td>\n",
       "      <td>Escola O</td>\n",
       "      <td>85</td>\n",
       "      <td>72</td>\n",
       "    </tr>\n",
       "  </tbody>\n",
       "</table>\n",
       "<p>39160 rows × 7 columns</p>\n",
       "</div>"
      ],
      "text/plain": [
       "       ID_Estudante       Nome_Estudante Genero  Serie Nome_Escola  \\\n",
       "0                 0        Kevin Bradley      M      6    Escola A   \n",
       "1                 1           Paul Smith      M      9    Escola A   \n",
       "2                 2       John Rodriguez      M      9    Escola A   \n",
       "3                 3         Oliver Scott      M      9    Escola A   \n",
       "4                 4          William Ray      F      6    Escola A   \n",
       "...             ...                  ...    ...    ...         ...   \n",
       "39155         39155          John Brooks      M      7    Escola O   \n",
       "39156         39156  Stephanie Contreras      F      8    Escola O   \n",
       "39157         39157     Kristen Gonzalez      F      6    Escola O   \n",
       "39158         39158        Kari Holloway      F      7    Escola O   \n",
       "39159         39159     Kimberly Cabrera      F      8    Escola O   \n",
       "\n",
       "       Nota_Redacao  Nota_Matematica  \n",
       "0                66               79  \n",
       "1                94               61  \n",
       "2                90               60  \n",
       "3                67               58  \n",
       "4                97               84  \n",
       "...             ...              ...  \n",
       "39155            92               98  \n",
       "39156            79               95  \n",
       "39157            79               94  \n",
       "39158            87               90  \n",
       "39159            85               72  \n",
       "\n",
       "[39160 rows x 7 columns]"
      ]
     },
     "execution_count": 3,
     "metadata": {},
     "output_type": "execute_result"
    }
   ],
   "source": [
    "estudantes"
   ]
  },
  {
   "cell_type": "markdown",
   "metadata": {},
   "source": [
    "Perguntas:\n",
    "\n",
    "Existem dados faltantes nas tabelas? \n",
    "\n",
    "R: .\n",
    "\n",
    "Existe algo em comum nas duas tabelas? \n",
    "\n",
    "R: .\n",
    "\n",
    "### Combinando os datasets"
   ]
  },
  {
   "cell_type": "code",
   "execution_count": 5,
   "metadata": {},
   "outputs": [],
   "source": [
    "data = pd.merge(estudantes, escolas, how='left')"
   ]
  },
  {
   "cell_type": "markdown",
   "metadata": {},
   "source": [
    "As colunas Genero, Serie e Tipo Escola representam dados categóricos. Como podemos verificar a quantidade de valores distintos que existem em cada categoria? "
   ]
  },
  {
   "cell_type": "code",
   "execution_count": 9,
   "metadata": {},
   "outputs": [
    {
     "data": {
      "text/plain": [
       "array(['M', 'F'], dtype=object)"
      ]
     },
     "execution_count": 9,
     "metadata": {},
     "output_type": "execute_result"
    }
   ],
   "source": [
    "data.Genero.unique()"
   ]
  },
  {
   "cell_type": "code",
   "execution_count": 10,
   "metadata": {},
   "outputs": [
    {
     "data": {
      "application/vnd.microsoft.datawrangler.viewer.v0+json": {
       "columns": [
        {
         "name": "Genero",
         "rawType": "object",
         "type": "string"
        },
        {
         "name": "count",
         "rawType": "int64",
         "type": "integer"
        }
       ],
       "ref": "8eb6d6fb-d2d8-41ca-8366-0cd01f0ffbfe",
       "rows": [
        [
         "F",
         "19728"
        ],
        [
         "M",
         "19432"
        ]
       ],
       "shape": {
        "columns": 1,
        "rows": 2
       }
      },
      "text/plain": [
       "Genero\n",
       "F    19728\n",
       "M    19432\n",
       "Name: count, dtype: int64"
      ]
     },
     "execution_count": 10,
     "metadata": {},
     "output_type": "execute_result"
    }
   ],
   "source": [
    "data.Genero.value_counts()"
   ]
  },
  {
   "cell_type": "code",
   "execution_count": 11,
   "metadata": {},
   "outputs": [
    {
     "data": {
      "text/plain": [
       "array([6, 9, 8, 7])"
      ]
     },
     "execution_count": 11,
     "metadata": {},
     "output_type": "execute_result"
    }
   ],
   "source": [
    "data.Serie.unique()"
   ]
  },
  {
   "cell_type": "code",
   "execution_count": 12,
   "metadata": {},
   "outputs": [
    {
     "data": {
      "application/vnd.microsoft.datawrangler.viewer.v0+json": {
       "columns": [
        {
         "name": "Serie",
         "rawType": "int64",
         "type": "integer"
        },
        {
         "name": "count",
         "rawType": "int64",
         "type": "integer"
        }
       ],
       "ref": "738e4e41-37d6-4d4d-bfcd-a925a8f3d9df",
       "rows": [
        [
         "6",
         "11406"
        ],
        [
         "7",
         "10165"
        ],
        [
         "8",
         "9692"
        ],
        [
         "9",
         "7897"
        ]
       ],
       "shape": {
        "columns": 1,
        "rows": 4
       }
      },
      "text/plain": [
       "Serie\n",
       "6    11406\n",
       "7    10165\n",
       "8     9692\n",
       "9     7897\n",
       "Name: count, dtype: int64"
      ]
     },
     "execution_count": 12,
     "metadata": {},
     "output_type": "execute_result"
    }
   ],
   "source": [
    "data.Serie.value_counts()"
   ]
  },
  {
   "cell_type": "markdown",
   "metadata": {},
   "source": [
    "### Algumas perguntas:\n",
    "\n",
    "Qual o orçamento total das escolas?"
   ]
  },
  {
   "cell_type": "code",
   "execution_count": 15,
   "metadata": {},
   "outputs": [
    {
     "data": {
      "text/plain": [
       "np.int64(24649428)"
      ]
     },
     "execution_count": 15,
     "metadata": {},
     "output_type": "execute_result"
    }
   ],
   "source": [
    "escolas.Orcamento_Anual.sum()"
   ]
  },
  {
   "cell_type": "markdown",
   "metadata": {},
   "source": [
    "Qual a nota média dos alunos nas disciplinas analisadas?"
   ]
  },
  {
   "cell_type": "code",
   "execution_count": 16,
   "metadata": {},
   "outputs": [
    {
     "data": {
      "text/plain": [
       "np.float64(78.98493360572012)"
      ]
     },
     "execution_count": 16,
     "metadata": {},
     "output_type": "execute_result"
    }
   ],
   "source": [
    "data.Nota_Matematica.mean()"
   ]
  },
  {
   "cell_type": "markdown",
   "metadata": {},
   "source": [
    "Organizando os resultados"
   ]
  },
  {
   "cell_type": "code",
   "execution_count": 17,
   "metadata": {},
   "outputs": [
    {
     "data": {
      "text/plain": [
       "np.float64(81.87574055158325)"
      ]
     },
     "execution_count": 17,
     "metadata": {},
     "output_type": "execute_result"
    }
   ],
   "source": [
    "data.Nota_Redacao.mean()"
   ]
  },
  {
   "cell_type": "code",
   "execution_count": 21,
   "metadata": {},
   "outputs": [],
   "source": [
    "MatematicaF = data[data.Genero ==\"F\"]\n",
    "MatematicaM = data[data.Genero ==\"M\"]"
   ]
  },
  {
   "cell_type": "code",
   "execution_count": 22,
   "metadata": {},
   "outputs": [
    {
     "name": "stdout",
     "output_type": "stream",
     "text": [
      "Notas meninas: 79.0375608272506 Notas meninos: 78.93150473445863\n"
     ]
    }
   ],
   "source": [
    "print(\"Notas meninas:\", MatematicaF.Nota_Matematica.mean(), \"Notas meninos:\", MatematicaM.Nota_Matematica.mean())"
   ]
  },
  {
   "cell_type": "code",
   "execution_count": 25,
   "metadata": {},
   "outputs": [
    {
     "data": {
      "application/vnd.microsoft.datawrangler.viewer.v0+json": {
       "columns": [
        {
         "name": "index",
         "rawType": "int64",
         "type": "integer"
        },
        {
         "name": "0",
         "rawType": "bool",
         "type": "boolean"
        }
       ],
       "ref": "5cb85af6-b44e-4b0d-b880-735af359c24f",
       "rows": [
        [
         "0",
         "False"
        ],
        [
         "1",
         "False"
        ],
        [
         "2",
         "False"
        ],
        [
         "3",
         "False"
        ],
        [
         "4",
         "True"
        ],
        [
         "5",
         "False"
        ],
        [
         "6",
         "False"
        ],
        [
         "7",
         "False"
        ],
        [
         "8",
         "False"
        ],
        [
         "9",
         "False"
        ],
        [
         "10",
         "False"
        ],
        [
         "11",
         "False"
        ],
        [
         "12",
         "True"
        ],
        [
         "13",
         "False"
        ],
        [
         "14",
         "False"
        ],
        [
         "15",
         "False"
        ],
        [
         "16",
         "False"
        ],
        [
         "17",
         "True"
        ],
        [
         "18",
         "False"
        ],
        [
         "19",
         "True"
        ],
        [
         "20",
         "False"
        ],
        [
         "21",
         "False"
        ],
        [
         "22",
         "False"
        ],
        [
         "23",
         "False"
        ],
        [
         "24",
         "False"
        ],
        [
         "25",
         "False"
        ],
        [
         "26",
         "True"
        ],
        [
         "27",
         "False"
        ],
        [
         "28",
         "False"
        ],
        [
         "29",
         "False"
        ],
        [
         "30",
         "False"
        ],
        [
         "31",
         "False"
        ],
        [
         "32",
         "False"
        ],
        [
         "33",
         "False"
        ],
        [
         "34",
         "False"
        ],
        [
         "35",
         "False"
        ],
        [
         "36",
         "False"
        ],
        [
         "37",
         "False"
        ],
        [
         "38",
         "False"
        ],
        [
         "39",
         "False"
        ],
        [
         "40",
         "False"
        ],
        [
         "41",
         "False"
        ],
        [
         "42",
         "False"
        ],
        [
         "43",
         "True"
        ],
        [
         "44",
         "False"
        ],
        [
         "45",
         "False"
        ],
        [
         "46",
         "False"
        ],
        [
         "47",
         "False"
        ],
        [
         "48",
         "True"
        ],
        [
         "49",
         "False"
        ]
       ],
       "shape": {
        "columns": 1,
        "rows": 39160
       }
      },
      "text/plain": [
       "0        False\n",
       "1        False\n",
       "2        False\n",
       "3        False\n",
       "4         True\n",
       "         ...  \n",
       "39155    False\n",
       "39156    False\n",
       "39157     True\n",
       "39158    False\n",
       "39159    False\n",
       "Length: 39160, dtype: bool"
      ]
     },
     "execution_count": 25,
     "metadata": {},
     "output_type": "execute_result"
    }
   ],
   "source": [
    "(data.Genero == \"F\") & (data.Serie == 6)"
   ]
  },
  {
   "cell_type": "code",
   "execution_count": 28,
   "metadata": {},
   "outputs": [
    {
     "data": {
      "text/plain": [
       "np.float64(78.80473269062226)"
      ]
     },
     "execution_count": 28,
     "metadata": {},
     "output_type": "execute_result"
    }
   ],
   "source": [
    "MatematicaFSexto = data[(data.Genero == \"F\") & (data.Serie == 6)]\n",
    "MatematicaFSexto.Nota_Matematica.mean()\n"
   ]
  },
  {
   "cell_type": "markdown",
   "metadata": {},
   "source": [
    "Quantos alunos ficaram com nota superior a 90 em redação?"
   ]
  },
  {
   "cell_type": "code",
   "execution_count": null,
   "metadata": {},
   "outputs": [
    {
     "data": {
      "text/plain": [
       "np.float64(78.80473269062226)"
      ]
     },
     "execution_count": 27,
     "metadata": {},
     "output_type": "execute_result"
    }
   ],
   "source": []
  },
  {
   "cell_type": "markdown",
   "metadata": {},
   "source": [
    "E qual o percentual?"
   ]
  },
  {
   "cell_type": "code",
   "execution_count": null,
   "metadata": {},
   "outputs": [],
   "source": []
  },
  {
   "cell_type": "markdown",
   "metadata": {},
   "source": [
    "Quantos alunos ficaram com nota superior a 90 em matemática? "
   ]
  },
  {
   "cell_type": "code",
   "execution_count": null,
   "metadata": {},
   "outputs": [],
   "source": []
  },
  {
   "cell_type": "markdown",
   "metadata": {},
   "source": [
    "Qual o percentual?"
   ]
  },
  {
   "cell_type": "code",
   "execution_count": null,
   "metadata": {},
   "outputs": [],
   "source": []
  },
  {
   "cell_type": "markdown",
   "metadata": {},
   "source": [
    "Quantos Alunos tiraram nota maior do que 90 nas duas disciplinas? "
   ]
  },
  {
   "cell_type": "code",
   "execution_count": null,
   "metadata": {},
   "outputs": [],
   "source": []
  },
  {
   "cell_type": "markdown",
   "metadata": {},
   "source": [
    "Qual o percentual? "
   ]
  },
  {
   "cell_type": "code",
   "execution_count": null,
   "metadata": {},
   "outputs": [],
   "source": []
  },
  {
   "cell_type": "markdown",
   "metadata": {},
   "source": [
    "Quantos alunos que obtiveram alto desempenho em ambas as disciplinas são de escolas públicas?"
   ]
  },
  {
   "cell_type": "code",
   "execution_count": null,
   "metadata": {},
   "outputs": [],
   "source": []
  },
  {
   "cell_type": "markdown",
   "metadata": {},
   "source": [
    "Quantas alunas obtiveram alto desempenho em ambas as disciplinas?"
   ]
  },
  {
   "cell_type": "code",
   "execution_count": null,
   "metadata": {},
   "outputs": [],
   "source": []
  },
  {
   "cell_type": "markdown",
   "metadata": {},
   "source": [
    "Como ficou a distribuição dos alunos de alto desempenho pelas série?"
   ]
  },
  {
   "cell_type": "code",
   "execution_count": null,
   "metadata": {},
   "outputs": [],
   "source": []
  },
  {
   "cell_type": "markdown",
   "metadata": {},
   "source": [
    "Qual o total por escolas? "
   ]
  },
  {
   "cell_type": "code",
   "execution_count": null,
   "metadata": {},
   "outputs": [],
   "source": []
  },
  {
   "cell_type": "code",
   "execution_count": null,
   "metadata": {},
   "outputs": [],
   "source": []
  },
  {
   "cell_type": "markdown",
   "metadata": {},
   "source": [
    "Qual o orçamento per capita de cada escola?"
   ]
  },
  {
   "cell_type": "code",
   "execution_count": null,
   "metadata": {},
   "outputs": [],
   "source": []
  },
  {
   "cell_type": "code",
   "execution_count": null,
   "metadata": {},
   "outputs": [],
   "source": []
  },
  {
   "cell_type": "markdown",
   "metadata": {},
   "source": [
    "Quais foram as escolas mais eficientes? \n",
    "\n",
    "Para tentar responder essa pergunta vamos adicionar o percentual de alunos de alto desempenho ao nosso dataset."
   ]
  },
  {
   "cell_type": "code",
   "execution_count": null,
   "metadata": {},
   "outputs": [],
   "source": []
  },
  {
   "cell_type": "code",
   "execution_count": null,
   "metadata": {},
   "outputs": [],
   "source": []
  },
  {
   "cell_type": "code",
   "execution_count": null,
   "metadata": {},
   "outputs": [],
   "source": []
  }
 ],
 "metadata": {
  "kernelspec": {
   "display_name": ".venv",
   "language": "python",
   "name": "python3"
  },
  "language_info": {
   "codemirror_mode": {
    "name": "ipython",
    "version": 3
   },
   "file_extension": ".py",
   "mimetype": "text/x-python",
   "name": "python",
   "nbconvert_exporter": "python",
   "pygments_lexer": "ipython3",
   "version": "3.12.10"
  }
 },
 "nbformat": 4,
 "nbformat_minor": 2
}
