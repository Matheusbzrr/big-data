{
 "cells": [
  {
   "cell_type": "markdown",
   "id": "03d46f62",
   "metadata": {},
   "source": [
    "# Conectando ao Atlas\n",
    "\n",
    "Após o processo de criação de um cluster substitua a uri e o password pelo valor fornecido pelo atlas."
   ]
  },
  {
   "cell_type": "code",
   "execution_count": 1,
   "id": "ee04245f",
   "metadata": {},
   "outputs": [
    {
     "name": "stdout",
     "output_type": "stream",
     "text": [
      "Pinged your deployment. You successfully connected to MongoDB!\n"
     ]
    }
   ],
   "source": [
    "\n",
    "from pymongo.mongo_client import MongoClient\n",
    "from pymongo.server_api import ServerApi\n",
    "from dotenv import load_dotenv\n",
    "import os\n",
    "\n",
    "load_dotenv()\n",
    "uri = os.getenv(\"URL\")\n",
    "\n",
    "# Create a new client and connect to the server\n",
    "client = MongoClient(uri, server_api=ServerApi('1'))\n",
    "\n",
    "# Send a ping to confirm a successful connection\n",
    "try:\n",
    "    client.admin.command('ping')\n",
    "    print(\"Pinged your deployment. You successfully connected to MongoDB!\")\n",
    "except Exception as e:\n",
    "    print(e)"
   ]
  },
  {
   "cell_type": "code",
   "execution_count": 4,
   "id": "af7d3d48",
   "metadata": {},
   "outputs": [
    {
     "data": {
      "text/plain": [
       "['sample_mflix', 'admin', 'local']"
      ]
     },
     "execution_count": 4,
     "metadata": {},
     "output_type": "execute_result"
    }
   ],
   "source": [
    "client.list_database_names()"
   ]
  },
  {
   "cell_type": "markdown",
   "id": "4788cb17",
   "metadata": {},
   "source": [
    "### Acessar o banco de dados"
   ]
  },
  {
   "cell_type": "code",
   "execution_count": 6,
   "id": "37bec119",
   "metadata": {},
   "outputs": [
    {
     "data": {
      "text/plain": [
       "['sessions', 'movies', 'embedded_movies', 'theaters', 'users', 'comments']"
      ]
     },
     "execution_count": 6,
     "metadata": {},
     "output_type": "execute_result"
    }
   ],
   "source": [
    "db = client.get_database(\"sample_mflix\")\n",
    "db.list_collection_names()"
   ]
  },
  {
   "cell_type": "markdown",
   "id": "ced10729",
   "metadata": {},
   "source": [
    "## Buscas personalizadas"
   ]
  },
  {
   "cell_type": "code",
   "execution_count": 33,
   "id": "e7ecf939",
   "metadata": {},
   "outputs": [
    {
     "name": "stdout",
     "output_type": "stream",
     "text": [
      "{'year': 1999, 'title': 'The Matrix'}\n",
      "{'year': 2003, 'title': 'The Matrix Reloaded'}\n",
      "{'year': 2003, 'title': 'The Matrix Revolutions'}\n",
      "{'title': 'The Animatrix', 'year': 2003}\n"
     ]
    }
   ],
   "source": [
    "movies = db.movies\n",
    "filtro = {\"title\": {\"$regex\": \"Matrix\", \"$options\": \"i\"}}  # i = ignore case\n",
    "\n",
    "for movie in movies.find(filtro, {\"_id\": 0, \"title\": 1, \"year\": 1}):\n",
    "    print(movie)"
   ]
  },
  {
   "cell_type": "code",
   "execution_count": 38,
   "id": "d53d306a",
   "metadata": {},
   "outputs": [
    {
     "name": "stdout",
     "output_type": "stream",
     "text": [
      "{'title': 'Pèl Adrienn', 'year': 2010}\n",
      "{'year': 2010, 'title': 'In My Sleep'}\n",
      "{'title': 'The Pacific', 'year': 2010}\n",
      "{'title': 'Tangled', 'year': 2010}\n",
      "{'title': 'Utomlyonnye solntsem 2: Predstoyanie', 'year': 2010}\n"
     ]
    }
   ],
   "source": [
    "filtro = {\"year\": 2010}\n",
    "for movie in movies.find(filtro, {\"_id\": 0, \"title\": 1, \"year\": 1}).limit(5):\n",
    "    print(movie)\n"
   ]
  },
  {
   "cell_type": "markdown",
   "id": "b7811ff0",
   "metadata": {},
   "source": [
    "# Adicionando nova coleção ao banco"
   ]
  },
  {
   "cell_type": "code",
   "execution_count": null,
   "id": "ef551c96",
   "metadata": {},
   "outputs": [
    {
     "name": "stdout",
     "output_type": "stream",
     "text": [
      "Coleção criada: colecao\n"
     ]
    }
   ],
   "source": [
    "novacolecao = \"colecao_de_usuarios_novos\"\n",
    "\n",
    "if novacolecao not in db.list_collection_names():\n",
    "    minha_colecao_nova = db.create_collection(novacolecao)\n",
    "    print(\"Coleção criada:\", minha_colecao_nova.name)\n",
    "else:\n",
    "    minha_colecao_nova = db[novacolecao]\n",
    "    print(f\"A coleção '{novacolecao}' já existe:\", minha_colecao_nova)\n",
    "\n",
    " "
   ]
  },
  {
   "cell_type": "markdown",
   "id": "999b9f49",
   "metadata": {},
   "source": [
    "# Inserindo dados na nova coleção"
   ]
  },
  {
   "cell_type": "code",
   "execution_count": 57,
   "id": "d3fb3475",
   "metadata": {},
   "outputs": [
    {
     "name": "stdout",
     "output_type": "stream",
     "text": [
      "dados inseridos com sucesso\n"
     ]
    }
   ],
   "source": [
    "dados = [\n",
    "    {\"nome\": \"José\", \"idade\": 25, \"cidade\": \"São Paulo\"},\n",
    "    {\"nome\": \"Carlos\", \"idade\": 30, \"cidade\": \"Rio de Janeiro\"},\n",
    "    {\"nome\": \"João\", \"idade\": 22, \"cidade\": \"Belo Horizonte\"}\n",
    "]\n",
    "\n",
    "minha_colecao_nova.insert_many(dados)\n",
    "print(\"dados inseridos com sucesso\")"
   ]
  },
  {
   "cell_type": "markdown",
   "id": "1d9a1efe",
   "metadata": {},
   "source": [
    "# Visualizando os dados nessa nova coleção"
   ]
  },
  {
   "cell_type": "code",
   "execution_count": 59,
   "id": "34ae802d",
   "metadata": {},
   "outputs": [
    {
     "name": "stdout",
     "output_type": "stream",
     "text": [
      "documentos na coleção:\n",
      "{'_id': ObjectId('68d175a40e8392070a2d9810'), 'nome': 'José', 'idade': 25, 'cidade': 'São Paulo'}\n",
      "{'_id': ObjectId('68d175a40e8392070a2d9811'), 'nome': 'Carlos', 'idade': 30, 'cidade': 'Rio de Janeiro'}\n",
      "{'_id': ObjectId('68d175a40e8392070a2d9812'), 'nome': 'João', 'idade': 22, 'cidade': 'Belo Horizonte'}\n"
     ]
    }
   ],
   "source": [
    "\n",
    "print(\"documentos na coleção:\")\n",
    "for doc in minha_colecao_nova.find():\n",
    "    print(doc)"
   ]
  }
 ],
 "metadata": {
  "kernelspec": {
   "display_name": "venv (3.12.4)",
   "language": "python",
   "name": "python3"
  },
  "language_info": {
   "codemirror_mode": {
    "name": "ipython",
    "version": 3
   },
   "file_extension": ".py",
   "mimetype": "text/x-python",
   "name": "python",
   "nbconvert_exporter": "python",
   "pygments_lexer": "ipython3",
   "version": "3.12.4"
  }
 },
 "nbformat": 4,
 "nbformat_minor": 5
}
