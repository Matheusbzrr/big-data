{
 "cells": [
  {
   "cell_type": "markdown",
   "id": "1f60f9ff",
   "metadata": {},
   "source": [
    "# PARTE I"
   ]
  },
  {
   "cell_type": "code",
   "execution_count": 1,
   "id": "402fb22d",
   "metadata": {},
   "outputs": [],
   "source": [
    "import requests\n",
    "\n",
    "\n",
    "url = f\"https://drive.google.com/uc?export=download&id=1kcH4xji_A1_FCgHoDOf6eu9EYcX0blyP\"\n",
    "\n",
    "db_filename = \"chinook.db\"\n",
    "\n",
    "try:\n",
    "    response = requests.get(url, stream=True)\n",
    "    response.raise_for_status()  \n",
    "\n",
    "    with open(db_filename, 'wb') as f:\n",
    "        f.write(response.content)\n",
    "\n",
    "except requests.RequestException as e:\n",
    "    print(f\"Erro ao baixar o arquivo: {e}\")\n",
    "except Exception as e:\n",
    "    print(f\"Ocorreu um erro: {e}\")"
   ]
  },
  {
   "cell_type": "code",
   "execution_count": 2,
   "id": "21c33c89",
   "metadata": {},
   "outputs": [],
   "source": [
    "import sqlite3\n",
    "\n",
    "connection = sqlite3.connect('chinook.db')\n"
   ]
  },
  {
   "cell_type": "code",
   "execution_count": 4,
   "id": "2b3014d8",
   "metadata": {},
   "outputs": [
    {
     "data": {
      "application/vnd.microsoft.datawrangler.viewer.v0+json": {
       "columns": [
        {
         "name": "index",
         "rawType": "int64",
         "type": "integer"
        },
        {
         "name": "type",
         "rawType": "object",
         "type": "string"
        },
        {
         "name": "name",
         "rawType": "object",
         "type": "string"
        },
        {
         "name": "tbl_name",
         "rawType": "object",
         "type": "string"
        },
        {
         "name": "rootpage",
         "rawType": "int64",
         "type": "integer"
        },
        {
         "name": "sql",
         "rawType": "object",
         "type": "string"
        }
       ],
       "ref": "7a59467b-0aef-4601-968e-c6862de6700a",
       "rows": [
        [
         "0",
         "table",
         "Album",
         "Album",
         "2",
         "CREATE TABLE [Album]\n(\n    [AlbumId] INTEGER  NOT NULL,\n    [Title] NVARCHAR(160)  NOT NULL,\n    [ArtistId] INTEGER  NOT NULL,\n    CONSTRAINT [PK_Album] PRIMARY KEY  ([AlbumId]),\n    FOREIGN KEY ([ArtistId]) REFERENCES [Artist] ([ArtistId]) \n\t\tON DELETE NO ACTION ON UPDATE NO ACTION\n)"
        ],
        [
         "1",
         "table",
         "Artist",
         "Artist",
         "3",
         "CREATE TABLE [Artist]\n(\n    [ArtistId] INTEGER  NOT NULL,\n    [Name] NVARCHAR(120),\n    CONSTRAINT [PK_Artist] PRIMARY KEY  ([ArtistId])\n)"
        ],
        [
         "2",
         "table",
         "Customer",
         "Customer",
         "4",
         "CREATE TABLE [Customer]\n(\n    [CustomerId] INTEGER  NOT NULL,\n    [FirstName] NVARCHAR(40)  NOT NULL,\n    [LastName] NVARCHAR(20)  NOT NULL,\n    [Company] NVARCHAR(80),\n    [Address] NVARCHAR(70),\n    [City] NVARCHAR(40),\n    [State] NVARCHAR(40),\n    [Country] NVARCHAR(40),\n    [PostalCode] NVARCHAR(10),\n    [Phone] NVARCHAR(24),\n    [Fax] NVARCHAR(24),\n    [Email] NVARCHAR(60)  NOT NULL,\n    [SupportRepId] INTEGER,\n    CONSTRAINT [PK_Customer] PRIMARY KEY  ([CustomerId]),\n    FOREIGN KEY ([SupportRepId]) REFERENCES [Employee] ([EmployeeId]) \n\t\tON DELETE NO ACTION ON UPDATE NO ACTION\n)"
        ],
        [
         "3",
         "table",
         "Employee",
         "Employee",
         "7",
         "CREATE TABLE [Employee]\n(\n    [EmployeeId] INTEGER  NOT NULL,\n    [LastName] NVARCHAR(20)  NOT NULL,\n    [FirstName] NVARCHAR(20)  NOT NULL,\n    [Title] NVARCHAR(30),\n    [ReportsTo] INTEGER,\n    [BirthDate] DATETIME,\n    [HireDate] DATETIME,\n    [Address] NVARCHAR(70),\n    [City] NVARCHAR(40),\n    [State] NVARCHAR(40),\n    [Country] NVARCHAR(40),\n    [PostalCode] NVARCHAR(10),\n    [Phone] NVARCHAR(24),\n    [Fax] NVARCHAR(24),\n    [Email] NVARCHAR(60),\n    CONSTRAINT [PK_Employee] PRIMARY KEY  ([EmployeeId]),\n    FOREIGN KEY ([ReportsTo]) REFERENCES [Employee] ([EmployeeId]) \n\t\tON DELETE NO ACTION ON UPDATE NO ACTION\n)"
        ],
        [
         "4",
         "table",
         "Genre",
         "Genre",
         "9",
         "CREATE TABLE [Genre]\n(\n    [GenreId] INTEGER  NOT NULL,\n    [Name] NVARCHAR(120),\n    CONSTRAINT [PK_Genre] PRIMARY KEY  ([GenreId])\n)"
        ],
        [
         "5",
         "table",
         "Invoice",
         "Invoice",
         "10",
         "CREATE TABLE [Invoice]\n(\n    [InvoiceId] INTEGER  NOT NULL,\n    [CustomerId] INTEGER  NOT NULL,\n    [InvoiceDate] DATETIME  NOT NULL,\n    [BillingAddress] NVARCHAR(70),\n    [BillingCity] NVARCHAR(40),\n    [BillingState] NVARCHAR(40),\n    [BillingCountry] NVARCHAR(40),\n    [BillingPostalCode] NVARCHAR(10),\n    [Total] NUMERIC(10,2)  NOT NULL,\n    CONSTRAINT [PK_Invoice] PRIMARY KEY  ([InvoiceId]),\n    FOREIGN KEY ([CustomerId]) REFERENCES [Customer] ([CustomerId]) \n\t\tON DELETE NO ACTION ON UPDATE NO ACTION\n)"
        ],
        [
         "6",
         "table",
         "InvoiceLine",
         "InvoiceLine",
         "12",
         "CREATE TABLE [InvoiceLine]\n(\n    [InvoiceLineId] INTEGER  NOT NULL,\n    [InvoiceId] INTEGER  NOT NULL,\n    [TrackId] INTEGER  NOT NULL,\n    [UnitPrice] NUMERIC(10,2)  NOT NULL,\n    [Quantity] INTEGER  NOT NULL,\n    CONSTRAINT [PK_InvoiceLine] PRIMARY KEY  ([InvoiceLineId]),\n    FOREIGN KEY ([InvoiceId]) REFERENCES [Invoice] ([InvoiceId]) \n\t\tON DELETE NO ACTION ON UPDATE NO ACTION,\n    FOREIGN KEY ([TrackId]) REFERENCES [Track] ([TrackId]) \n\t\tON DELETE NO ACTION ON UPDATE NO ACTION\n)"
        ],
        [
         "7",
         "table",
         "MediaType",
         "MediaType",
         "14",
         "CREATE TABLE [MediaType]\n(\n    [MediaTypeId] INTEGER  NOT NULL,\n    [Name] NVARCHAR(120),\n    CONSTRAINT [PK_MediaType] PRIMARY KEY  ([MediaTypeId])\n)"
        ],
        [
         "8",
         "table",
         "Playlist",
         "Playlist",
         "15",
         "CREATE TABLE [Playlist]\n(\n    [PlaylistId] INTEGER  NOT NULL,\n    [Name] NVARCHAR(120),\n    CONSTRAINT [PK_Playlist] PRIMARY KEY  ([PlaylistId])\n)"
        ],
        [
         "9",
         "table",
         "PlaylistTrack",
         "PlaylistTrack",
         "16",
         "CREATE TABLE [PlaylistTrack]\n(\n    [PlaylistId] INTEGER  NOT NULL,\n    [TrackId] INTEGER  NOT NULL,\n    CONSTRAINT [PK_PlaylistTrack] PRIMARY KEY  ([PlaylistId], [TrackId]),\n    FOREIGN KEY ([PlaylistId]) REFERENCES [Playlist] ([PlaylistId]) \n\t\tON DELETE NO ACTION ON UPDATE NO ACTION,\n    FOREIGN KEY ([TrackId]) REFERENCES [Track] ([TrackId]) \n\t\tON DELETE NO ACTION ON UPDATE NO ACTION\n)"
        ],
        [
         "10",
         "table",
         "Track",
         "Track",
         "19",
         "CREATE TABLE [Track]\n(\n    [TrackId] INTEGER  NOT NULL,\n    [Name] NVARCHAR(200)  NOT NULL,\n    [AlbumId] INTEGER,\n    [MediaTypeId] INTEGER  NOT NULL,\n    [GenreId] INTEGER,\n    [Composer] NVARCHAR(220),\n    [Milliseconds] INTEGER  NOT NULL,\n    [Bytes] INTEGER,\n    [UnitPrice] NUMERIC(10,2)  NOT NULL,\n    CONSTRAINT [PK_Track] PRIMARY KEY  ([TrackId]),\n    FOREIGN KEY ([AlbumId]) REFERENCES [Album] ([AlbumId]) \n\t\tON DELETE NO ACTION ON UPDATE NO ACTION,\n    FOREIGN KEY ([GenreId]) REFERENCES [Genre] ([GenreId]) \n\t\tON DELETE NO ACTION ON UPDATE NO ACTION,\n    FOREIGN KEY ([MediaTypeId]) REFERENCES [MediaType] ([MediaTypeId]) \n\t\tON DELETE NO ACTION ON UPDATE NO ACTION\n)"
        ]
       ],
       "shape": {
        "columns": 5,
        "rows": 11
       }
      },
      "text/html": [
       "<div>\n",
       "<style scoped>\n",
       "    .dataframe tbody tr th:only-of-type {\n",
       "        vertical-align: middle;\n",
       "    }\n",
       "\n",
       "    .dataframe tbody tr th {\n",
       "        vertical-align: top;\n",
       "    }\n",
       "\n",
       "    .dataframe thead th {\n",
       "        text-align: right;\n",
       "    }\n",
       "</style>\n",
       "<table border=\"1\" class=\"dataframe\">\n",
       "  <thead>\n",
       "    <tr style=\"text-align: right;\">\n",
       "      <th></th>\n",
       "      <th>type</th>\n",
       "      <th>name</th>\n",
       "      <th>tbl_name</th>\n",
       "      <th>rootpage</th>\n",
       "      <th>sql</th>\n",
       "    </tr>\n",
       "  </thead>\n",
       "  <tbody>\n",
       "    <tr>\n",
       "      <th>0</th>\n",
       "      <td>table</td>\n",
       "      <td>Album</td>\n",
       "      <td>Album</td>\n",
       "      <td>2</td>\n",
       "      <td>CREATE TABLE [Album]\\n(\\n    [AlbumId] INTEGER...</td>\n",
       "    </tr>\n",
       "    <tr>\n",
       "      <th>1</th>\n",
       "      <td>table</td>\n",
       "      <td>Artist</td>\n",
       "      <td>Artist</td>\n",
       "      <td>3</td>\n",
       "      <td>CREATE TABLE [Artist]\\n(\\n    [ArtistId] INTEG...</td>\n",
       "    </tr>\n",
       "    <tr>\n",
       "      <th>2</th>\n",
       "      <td>table</td>\n",
       "      <td>Customer</td>\n",
       "      <td>Customer</td>\n",
       "      <td>4</td>\n",
       "      <td>CREATE TABLE [Customer]\\n(\\n    [CustomerId] I...</td>\n",
       "    </tr>\n",
       "    <tr>\n",
       "      <th>3</th>\n",
       "      <td>table</td>\n",
       "      <td>Employee</td>\n",
       "      <td>Employee</td>\n",
       "      <td>7</td>\n",
       "      <td>CREATE TABLE [Employee]\\n(\\n    [EmployeeId] I...</td>\n",
       "    </tr>\n",
       "    <tr>\n",
       "      <th>4</th>\n",
       "      <td>table</td>\n",
       "      <td>Genre</td>\n",
       "      <td>Genre</td>\n",
       "      <td>9</td>\n",
       "      <td>CREATE TABLE [Genre]\\n(\\n    [GenreId] INTEGER...</td>\n",
       "    </tr>\n",
       "    <tr>\n",
       "      <th>5</th>\n",
       "      <td>table</td>\n",
       "      <td>Invoice</td>\n",
       "      <td>Invoice</td>\n",
       "      <td>10</td>\n",
       "      <td>CREATE TABLE [Invoice]\\n(\\n    [InvoiceId] INT...</td>\n",
       "    </tr>\n",
       "    <tr>\n",
       "      <th>6</th>\n",
       "      <td>table</td>\n",
       "      <td>InvoiceLine</td>\n",
       "      <td>InvoiceLine</td>\n",
       "      <td>12</td>\n",
       "      <td>CREATE TABLE [InvoiceLine]\\n(\\n    [InvoiceLin...</td>\n",
       "    </tr>\n",
       "    <tr>\n",
       "      <th>7</th>\n",
       "      <td>table</td>\n",
       "      <td>MediaType</td>\n",
       "      <td>MediaType</td>\n",
       "      <td>14</td>\n",
       "      <td>CREATE TABLE [MediaType]\\n(\\n    [MediaTypeId]...</td>\n",
       "    </tr>\n",
       "    <tr>\n",
       "      <th>8</th>\n",
       "      <td>table</td>\n",
       "      <td>Playlist</td>\n",
       "      <td>Playlist</td>\n",
       "      <td>15</td>\n",
       "      <td>CREATE TABLE [Playlist]\\n(\\n    [PlaylistId] I...</td>\n",
       "    </tr>\n",
       "    <tr>\n",
       "      <th>9</th>\n",
       "      <td>table</td>\n",
       "      <td>PlaylistTrack</td>\n",
       "      <td>PlaylistTrack</td>\n",
       "      <td>16</td>\n",
       "      <td>CREATE TABLE [PlaylistTrack]\\n(\\n    [Playlist...</td>\n",
       "    </tr>\n",
       "    <tr>\n",
       "      <th>10</th>\n",
       "      <td>table</td>\n",
       "      <td>Track</td>\n",
       "      <td>Track</td>\n",
       "      <td>19</td>\n",
       "      <td>CREATE TABLE [Track]\\n(\\n    [TrackId] INTEGER...</td>\n",
       "    </tr>\n",
       "  </tbody>\n",
       "</table>\n",
       "</div>"
      ],
      "text/plain": [
       "     type           name       tbl_name  rootpage  \\\n",
       "0   table          Album          Album         2   \n",
       "1   table         Artist         Artist         3   \n",
       "2   table       Customer       Customer         4   \n",
       "3   table       Employee       Employee         7   \n",
       "4   table          Genre          Genre         9   \n",
       "5   table        Invoice        Invoice        10   \n",
       "6   table    InvoiceLine    InvoiceLine        12   \n",
       "7   table      MediaType      MediaType        14   \n",
       "8   table       Playlist       Playlist        15   \n",
       "9   table  PlaylistTrack  PlaylistTrack        16   \n",
       "10  table          Track          Track        19   \n",
       "\n",
       "                                                  sql  \n",
       "0   CREATE TABLE [Album]\\n(\\n    [AlbumId] INTEGER...  \n",
       "1   CREATE TABLE [Artist]\\n(\\n    [ArtistId] INTEG...  \n",
       "2   CREATE TABLE [Customer]\\n(\\n    [CustomerId] I...  \n",
       "3   CREATE TABLE [Employee]\\n(\\n    [EmployeeId] I...  \n",
       "4   CREATE TABLE [Genre]\\n(\\n    [GenreId] INTEGER...  \n",
       "5   CREATE TABLE [Invoice]\\n(\\n    [InvoiceId] INT...  \n",
       "6   CREATE TABLE [InvoiceLine]\\n(\\n    [InvoiceLin...  \n",
       "7   CREATE TABLE [MediaType]\\n(\\n    [MediaTypeId]...  \n",
       "8   CREATE TABLE [Playlist]\\n(\\n    [PlaylistId] I...  \n",
       "9   CREATE TABLE [PlaylistTrack]\\n(\\n    [Playlist...  \n",
       "10  CREATE TABLE [Track]\\n(\\n    [TrackId] INTEGER...  "
      ]
     },
     "execution_count": 4,
     "metadata": {},
     "output_type": "execute_result"
    }
   ],
   "source": [
    "import pandas as pd\n",
    "pd.read_sql(\"SELECT * FROM sqlite_master WHERE type='table';\", connection)"
   ]
  },
  {
   "cell_type": "code",
   "execution_count": 6,
   "id": "4d517f55",
   "metadata": {},
   "outputs": [
    {
     "data": {
      "application/vnd.microsoft.datawrangler.viewer.v0+json": {
       "columns": [
        {
         "name": "AlbumId",
         "rawType": "int64",
         "type": "integer"
        },
        {
         "name": "Title",
         "rawType": "object",
         "type": "string"
        },
        {
         "name": "ArtistId",
         "rawType": "int64",
         "type": "integer"
        }
       ],
       "ref": "64f37d1a-e2cb-4bbb-a307-d8e168110f4b",
       "rows": [
        [
         "1",
         "For Those About To Rock We Salute You",
         "1"
        ],
        [
         "2",
         "Balls to the Wall",
         "2"
        ],
        [
         "3",
         "Restless and Wild",
         "2"
        ],
        [
         "4",
         "Let There Be Rock",
         "1"
        ],
        [
         "5",
         "Big Ones",
         "3"
        ],
        [
         "6",
         "Jagged Little Pill",
         "4"
        ],
        [
         "7",
         "Facelift",
         "5"
        ],
        [
         "8",
         "Warner 25 Anos",
         "6"
        ],
        [
         "9",
         "Plays Metallica By Four Cellos",
         "7"
        ],
        [
         "10",
         "Audioslave",
         "8"
        ],
        [
         "11",
         "Out Of Exile",
         "8"
        ],
        [
         "12",
         "BackBeat Soundtrack",
         "9"
        ],
        [
         "13",
         "The Best Of Billy Cobham",
         "10"
        ],
        [
         "14",
         "Alcohol Fueled Brewtality Live! [Disc 1]",
         "11"
        ],
        [
         "15",
         "Alcohol Fueled Brewtality Live! [Disc 2]",
         "11"
        ],
        [
         "16",
         "Black Sabbath",
         "12"
        ],
        [
         "17",
         "Black Sabbath Vol. 4 (Remaster)",
         "12"
        ],
        [
         "18",
         "Body Count",
         "13"
        ],
        [
         "19",
         "Chemical Wedding",
         "14"
        ],
        [
         "20",
         "The Best Of Buddy Guy - The Millenium Collection",
         "15"
        ],
        [
         "21",
         "Prenda Minha",
         "16"
        ],
        [
         "22",
         "Sozinho Remix Ao Vivo",
         "16"
        ],
        [
         "23",
         "Minha Historia",
         "17"
        ],
        [
         "24",
         "Afrociberdelia",
         "18"
        ],
        [
         "25",
         "Da Lama Ao Caos",
         "18"
        ],
        [
         "26",
         "Acústico MTV [Live]",
         "19"
        ],
        [
         "27",
         "Cidade Negra - Hits",
         "19"
        ],
        [
         "28",
         "Na Pista",
         "20"
        ],
        [
         "29",
         "Axé Bahia 2001",
         "21"
        ],
        [
         "30",
         "BBC Sessions [Disc 1] [Live]",
         "22"
        ],
        [
         "31",
         "Bongo Fury",
         "23"
        ],
        [
         "32",
         "Carnaval 2001",
         "21"
        ],
        [
         "33",
         "Chill: Brazil (Disc 1)",
         "24"
        ],
        [
         "34",
         "Chill: Brazil (Disc 2)",
         "6"
        ],
        [
         "35",
         "Garage Inc. (Disc 1)",
         "50"
        ],
        [
         "36",
         "Greatest Hits II",
         "51"
        ],
        [
         "37",
         "Greatest Kiss",
         "52"
        ],
        [
         "38",
         "Heart of the Night",
         "53"
        ],
        [
         "39",
         "International Superhits",
         "54"
        ],
        [
         "40",
         "Into The Light",
         "55"
        ],
        [
         "41",
         "Meus Momentos",
         "56"
        ],
        [
         "42",
         "Minha História",
         "57"
        ],
        [
         "43",
         "MK III The Final Concerts [Disc 1]",
         "58"
        ],
        [
         "44",
         "Physical Graffiti [Disc 1]",
         "22"
        ],
        [
         "45",
         "Sambas De Enredo 2001",
         "21"
        ],
        [
         "46",
         "Supernatural",
         "59"
        ],
        [
         "47",
         "The Best of Ed Motta",
         "37"
        ],
        [
         "48",
         "The Essential Miles Davis [Disc 1]",
         "68"
        ],
        [
         "49",
         "The Essential Miles Davis [Disc 2]",
         "68"
        ],
        [
         "50",
         "The Final Concerts (Disc 2)",
         "58"
        ]
       ],
       "shape": {
        "columns": 2,
        "rows": 347
       }
      },
      "text/html": [
       "<div>\n",
       "<style scoped>\n",
       "    .dataframe tbody tr th:only-of-type {\n",
       "        vertical-align: middle;\n",
       "    }\n",
       "\n",
       "    .dataframe tbody tr th {\n",
       "        vertical-align: top;\n",
       "    }\n",
       "\n",
       "    .dataframe thead th {\n",
       "        text-align: right;\n",
       "    }\n",
       "</style>\n",
       "<table border=\"1\" class=\"dataframe\">\n",
       "  <thead>\n",
       "    <tr style=\"text-align: right;\">\n",
       "      <th></th>\n",
       "      <th>Title</th>\n",
       "      <th>ArtistId</th>\n",
       "    </tr>\n",
       "    <tr>\n",
       "      <th>AlbumId</th>\n",
       "      <th></th>\n",
       "      <th></th>\n",
       "    </tr>\n",
       "  </thead>\n",
       "  <tbody>\n",
       "    <tr>\n",
       "      <th>1</th>\n",
       "      <td>For Those About To Rock We Salute You</td>\n",
       "      <td>1</td>\n",
       "    </tr>\n",
       "    <tr>\n",
       "      <th>2</th>\n",
       "      <td>Balls to the Wall</td>\n",
       "      <td>2</td>\n",
       "    </tr>\n",
       "    <tr>\n",
       "      <th>3</th>\n",
       "      <td>Restless and Wild</td>\n",
       "      <td>2</td>\n",
       "    </tr>\n",
       "    <tr>\n",
       "      <th>4</th>\n",
       "      <td>Let There Be Rock</td>\n",
       "      <td>1</td>\n",
       "    </tr>\n",
       "    <tr>\n",
       "      <th>5</th>\n",
       "      <td>Big Ones</td>\n",
       "      <td>3</td>\n",
       "    </tr>\n",
       "    <tr>\n",
       "      <th>...</th>\n",
       "      <td>...</td>\n",
       "      <td>...</td>\n",
       "    </tr>\n",
       "    <tr>\n",
       "      <th>343</th>\n",
       "      <td>Respighi:Pines of Rome</td>\n",
       "      <td>226</td>\n",
       "    </tr>\n",
       "    <tr>\n",
       "      <th>344</th>\n",
       "      <td>Schubert: The Late String Quartets &amp; String Qu...</td>\n",
       "      <td>272</td>\n",
       "    </tr>\n",
       "    <tr>\n",
       "      <th>345</th>\n",
       "      <td>Monteverdi: L'Orfeo</td>\n",
       "      <td>273</td>\n",
       "    </tr>\n",
       "    <tr>\n",
       "      <th>346</th>\n",
       "      <td>Mozart: Chamber Music</td>\n",
       "      <td>274</td>\n",
       "    </tr>\n",
       "    <tr>\n",
       "      <th>347</th>\n",
       "      <td>Koyaanisqatsi (Soundtrack from the Motion Pict...</td>\n",
       "      <td>275</td>\n",
       "    </tr>\n",
       "  </tbody>\n",
       "</table>\n",
       "<p>347 rows × 2 columns</p>\n",
       "</div>"
      ],
      "text/plain": [
       "                                                     Title  ArtistId\n",
       "AlbumId                                                             \n",
       "1                    For Those About To Rock We Salute You         1\n",
       "2                                        Balls to the Wall         2\n",
       "3                                        Restless and Wild         2\n",
       "4                                        Let There Be Rock         1\n",
       "5                                                 Big Ones         3\n",
       "...                                                    ...       ...\n",
       "343                                 Respighi:Pines of Rome       226\n",
       "344      Schubert: The Late String Quartets & String Qu...       272\n",
       "345                                    Monteverdi: L'Orfeo       273\n",
       "346                                  Mozart: Chamber Music       274\n",
       "347      Koyaanisqatsi (Soundtrack from the Motion Pict...       275\n",
       "\n",
       "[347 rows x 2 columns]"
      ]
     },
     "execution_count": 6,
     "metadata": {},
     "output_type": "execute_result"
    }
   ],
   "source": [
    "pd.read_sql(\"SELECT * FROM Album;\", connection, index_col=\"AlbumId\")"
   ]
  },
  {
   "cell_type": "code",
   "execution_count": null,
   "id": "cd520ed5",
   "metadata": {},
   "outputs": [],
   "source": []
  },
  {
   "cell_type": "markdown",
   "id": "d14347b9",
   "metadata": {},
   "source": [
    "# PARTE II"
   ]
  },
  {
   "cell_type": "code",
   "execution_count": null,
   "id": "4999504f",
   "metadata": {},
   "outputs": [],
   "source": [
    "import requests\n",
    "\n",
    "\n",
    "url = \"\"\n",
    "\n",
    "response = requests.get(url)\n",
    "response.raise_for_status()  \n",
    "universities = response.json()\n"
   ]
  }
 ],
 "metadata": {
  "kernelspec": {
   "display_name": ".venv",
   "language": "python",
   "name": "python3"
  },
  "language_info": {
   "codemirror_mode": {
    "name": "ipython",
    "version": 3
   },
   "file_extension": ".py",
   "mimetype": "text/x-python",
   "name": "python",
   "nbconvert_exporter": "python",
   "pygments_lexer": "ipython3",
   "version": "3.12.10"
  }
 },
 "nbformat": 4,
 "nbformat_minor": 5
}
